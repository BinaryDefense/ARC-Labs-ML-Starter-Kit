{
 "cells": [
  {
   "cell_type": "markdown",
   "metadata": {},
   "source": [
    "A Hands-on Workshop of Isolation Forest for Anomaly Detection and Data Preprocessing with Python"
   ]
  },
  {
   "cell_type": "markdown",
   "metadata": {},
   "source": [
    "\n",
    "The Isolation Forest algorithm is a popular choice for anomaly detection because of several key advantages that make it well-suited for identifying anomalies in datasets. Isolation Forest is preferred for anomaly detection because it is efficient, scalable, works well with high-dimensional and large datasets, and doesn’t require labeled data or assumptions about data distribution. Its ability to handle imbalanced data and its interpretability make it a versatile and powerful tool for detecting anomalies in various domains, including cybersecurity, fraud detection, and system monitoring.\n",
    "\n",
    "We will walk away with practical experience in setting up reproducible environments, processing real-world datasets, and applying anomaly detection models. We will understand the importance of proper data preprocessing, feature engineering, and effectively evaluating model results to draw actionable insights from data."
   ]
  },
  {
   "cell_type": "markdown",
   "metadata": {},
   "source": [
    "We start by setting up a Python environment with necessary packages like matplotlib, pandas, and scikit-learn."
   ]
  },
  {
   "cell_type": "code",
   "execution_count": null,
   "metadata": {},
   "outputs": [],
   "source": [
    "!pip install --upgrade pip\n",
    "#create a virtual environment\n",
    "#!pip install virtualenv\n",
    "\n",
    "#Create a virtual environment:\n",
    "#Open Command Prompt\n",
    "#Navigate to your project directory\n",
    "#Run the following commands:\n",
    "# \n",
    "#!python3 -m venv myenv\n",
    "#!source myenv/bin/activate\n",
    "#!pip install seaborn\n",
    "!pip install matplotlib\n",
    "!pip install scikit-learn\n",
    "#https://www.freecodecamp.org/news/python-requirementstxt-explained/\n",
    "#!pip install -r requirements.txt\n",
    "\n",
    "import pandas as pd\n",
    "import sys"
   ]
  },
  {
   "cell_type": "markdown",
   "metadata": {},
   "source": [
    "Data Loading and Cleaning:\n",
    "\n",
    "    Load a CSV file into a pandas DataFrame.\n",
    "\n",
    "    Handle missing data using dropna() and check for the presence of NaN values.\n",
    "\n",
    "    Understand how to view unique values, column headers, and the number of rows in the dataset."
   ]
  },
  {
   "cell_type": "code",
   "execution_count": 1,
   "metadata": {},
   "outputs": [
    {
     "data": {
      "text/html": [
       "<div>\n",
       "<style scoped>\n",
       "    .dataframe tbody tr th:only-of-type {\n",
       "        vertical-align: middle;\n",
       "    }\n",
       "\n",
       "    .dataframe tbody tr th {\n",
       "        vertical-align: top;\n",
       "    }\n",
       "\n",
       "    .dataframe thead th {\n",
       "        text-align: right;\n",
       "    }\n",
       "</style>\n",
       "<table border=\"1\" class=\"dataframe\">\n",
       "  <thead>\n",
       "    <tr style=\"text-align: right;\">\n",
       "      <th></th>\n",
       "      <th>Timestamp</th>\n",
       "      <th>Event ID</th>\n",
       "      <th>ID</th>\n",
       "      <th>Account_Name</th>\n",
       "      <th>Service File Name</th>\n",
       "      <th>Service Name</th>\n",
       "      <th>Service Type</th>\n",
       "      <th>Service Start Type</th>\n",
       "      <th>Label</th>\n",
       "    </tr>\n",
       "  </thead>\n",
       "  <tbody>\n",
       "    <tr>\n",
       "      <th>0</th>\n",
       "      <td>2024-08-04T17:58:19Z</td>\n",
       "      <td>7045.0</td>\n",
       "      <td>fc7deb2c-9f43-49de-aff0-e1d1080e871f</td>\n",
       "      <td>LocalSystem</td>\n",
       "      <td>C:\\WINDOWS\\sysmon.exe</td>\n",
       "      <td>sysmon</td>\n",
       "      <td>auto start</td>\n",
       "      <td>user mode service</td>\n",
       "      <td>benign</td>\n",
       "    </tr>\n",
       "    <tr>\n",
       "      <th>1</th>\n",
       "      <td>2024-08-04T17:58:26Z</td>\n",
       "      <td>7045.0</td>\n",
       "      <td>a91101ef-fe9a-4d65-b1d2-6479cee86eaf</td>\n",
       "      <td>LocalSystem</td>\n",
       "      <td>C:\\WINDOWS\\SysmonDrv.sys</td>\n",
       "      <td>SysmonDrv</td>\n",
       "      <td>boot start</td>\n",
       "      <td>kernel mode driver</td>\n",
       "      <td>benign</td>\n",
       "    </tr>\n",
       "    <tr>\n",
       "      <th>2</th>\n",
       "      <td>2024-08-04T18:00:18Z</td>\n",
       "      <td>7045.0</td>\n",
       "      <td>6bb5ea31-a7ba-4a3f-8ee6-694e57040b36</td>\n",
       "      <td>LocalSystem</td>\n",
       "      <td>C:\\Windows\\sysmon.exe</td>\n",
       "      <td>sysmon</td>\n",
       "      <td>auto start</td>\n",
       "      <td>user mode service</td>\n",
       "      <td>benign</td>\n",
       "    </tr>\n",
       "    <tr>\n",
       "      <th>3</th>\n",
       "      <td>2024-08-04T18:01:35Z</td>\n",
       "      <td>7045.0</td>\n",
       "      <td>1d62042f-5def-4338-8b51-eda4d6e0c2b9</td>\n",
       "      <td>LocalSystem</td>\n",
       "      <td>C:\\Program Files (x86)\\Microsoft Intune Manage...</td>\n",
       "      <td>Microsoft Intune Management Extension</td>\n",
       "      <td>auto start</td>\n",
       "      <td>user mode service</td>\n",
       "      <td>benign</td>\n",
       "    </tr>\n",
       "    <tr>\n",
       "      <th>4</th>\n",
       "      <td>2024-08-04T18:03:03Z</td>\n",
       "      <td>7045.0</td>\n",
       "      <td>6cdd1f43-8592-41bf-b3be-d9257c90ff9e</td>\n",
       "      <td>LocalSystem</td>\n",
       "      <td>C:\\WINDOWS\\sysmon.exe</td>\n",
       "      <td>sysmon</td>\n",
       "      <td>auto start</td>\n",
       "      <td>user mode service</td>\n",
       "      <td>benign</td>\n",
       "    </tr>\n",
       "    <tr>\n",
       "      <th>...</th>\n",
       "      <td>...</td>\n",
       "      <td>...</td>\n",
       "      <td>...</td>\n",
       "      <td>...</td>\n",
       "      <td>...</td>\n",
       "      <td>...</td>\n",
       "      <td>...</td>\n",
       "      <td>...</td>\n",
       "      <td>...</td>\n",
       "    </tr>\n",
       "    <tr>\n",
       "      <th>689339</th>\n",
       "      <td>2024-09-03T18:18:22Z</td>\n",
       "      <td>7045.0</td>\n",
       "      <td>e2897037-6042-4336-be2a-06464aa123f3</td>\n",
       "      <td>LocalSystem</td>\n",
       "      <td>C:\\WINDOWS\\sysmon.exe</td>\n",
       "      <td>sysmon</td>\n",
       "      <td>auto start</td>\n",
       "      <td>user mode service</td>\n",
       "      <td>benign</td>\n",
       "    </tr>\n",
       "    <tr>\n",
       "      <th>689340</th>\n",
       "      <td>2024-09-03T18:18:28Z</td>\n",
       "      <td>7045.0</td>\n",
       "      <td>837d494f-86b9-4a68-863b-33268450febb</td>\n",
       "      <td>LocalSystem</td>\n",
       "      <td>C:\\WINDOWS\\SysmonDrv.sys</td>\n",
       "      <td>SysmonDrv</td>\n",
       "      <td>boot start</td>\n",
       "      <td>kernel mode driver</td>\n",
       "      <td>benign</td>\n",
       "    </tr>\n",
       "    <tr>\n",
       "      <th>689341</th>\n",
       "      <td>2024-09-03T18:19:26Z</td>\n",
       "      <td>7045.0</td>\n",
       "      <td>f9a4d604-9a1b-4db5-ac35-ad33071df9d0</td>\n",
       "      <td>LocalSystem</td>\n",
       "      <td>C:\\Windows\\sysmon.exe</td>\n",
       "      <td>sysmon</td>\n",
       "      <td>auto start</td>\n",
       "      <td>user mode service</td>\n",
       "      <td>benign</td>\n",
       "    </tr>\n",
       "    <tr>\n",
       "      <th>689342</th>\n",
       "      <td>2024-09-03T18:19:28Z</td>\n",
       "      <td>7045.0</td>\n",
       "      <td>6639547f-83ec-4a85-9896-8bd5d84e41d1</td>\n",
       "      <td>LocalSystem</td>\n",
       "      <td>C:\\Windows\\sysmon.exe</td>\n",
       "      <td>sysmon</td>\n",
       "      <td>auto start</td>\n",
       "      <td>user mode service</td>\n",
       "      <td>benign</td>\n",
       "    </tr>\n",
       "    <tr>\n",
       "      <th>689343</th>\n",
       "      <td>2024-09-03T18:20:57Z</td>\n",
       "      <td>7045.0</td>\n",
       "      <td>6afa2345-f887-4447-a17f-a638f38d4665</td>\n",
       "      <td>LocalSystem</td>\n",
       "      <td>C:\\Program Files (x86)\\WK\\ProSystem fx Suite\\S...</td>\n",
       "      <td>CCH Axcess DCS Service</td>\n",
       "      <td>auto start</td>\n",
       "      <td>user mode service</td>\n",
       "      <td>benign</td>\n",
       "    </tr>\n",
       "  </tbody>\n",
       "</table>\n",
       "<p>689344 rows × 9 columns</p>\n",
       "</div>"
      ],
      "text/plain": [
       "                   Timestamp  Event ID                                    ID  \\\n",
       "0       2024-08-04T17:58:19Z    7045.0  fc7deb2c-9f43-49de-aff0-e1d1080e871f   \n",
       "1       2024-08-04T17:58:26Z    7045.0  a91101ef-fe9a-4d65-b1d2-6479cee86eaf   \n",
       "2       2024-08-04T18:00:18Z    7045.0  6bb5ea31-a7ba-4a3f-8ee6-694e57040b36   \n",
       "3       2024-08-04T18:01:35Z    7045.0  1d62042f-5def-4338-8b51-eda4d6e0c2b9   \n",
       "4       2024-08-04T18:03:03Z    7045.0  6cdd1f43-8592-41bf-b3be-d9257c90ff9e   \n",
       "...                      ...       ...                                   ...   \n",
       "689339  2024-09-03T18:18:22Z    7045.0  e2897037-6042-4336-be2a-06464aa123f3   \n",
       "689340  2024-09-03T18:18:28Z    7045.0  837d494f-86b9-4a68-863b-33268450febb   \n",
       "689341  2024-09-03T18:19:26Z    7045.0  f9a4d604-9a1b-4db5-ac35-ad33071df9d0   \n",
       "689342  2024-09-03T18:19:28Z    7045.0  6639547f-83ec-4a85-9896-8bd5d84e41d1   \n",
       "689343  2024-09-03T18:20:57Z    7045.0  6afa2345-f887-4447-a17f-a638f38d4665   \n",
       "\n",
       "       Account_Name                                  Service File Name  \\\n",
       "0       LocalSystem                              C:\\WINDOWS\\sysmon.exe   \n",
       "1       LocalSystem                           C:\\WINDOWS\\SysmonDrv.sys   \n",
       "2       LocalSystem                              C:\\Windows\\sysmon.exe   \n",
       "3       LocalSystem  C:\\Program Files (x86)\\Microsoft Intune Manage...   \n",
       "4       LocalSystem                              C:\\WINDOWS\\sysmon.exe   \n",
       "...             ...                                                ...   \n",
       "689339  LocalSystem                              C:\\WINDOWS\\sysmon.exe   \n",
       "689340  LocalSystem                           C:\\WINDOWS\\SysmonDrv.sys   \n",
       "689341  LocalSystem                              C:\\Windows\\sysmon.exe   \n",
       "689342  LocalSystem                              C:\\Windows\\sysmon.exe   \n",
       "689343  LocalSystem  C:\\Program Files (x86)\\WK\\ProSystem fx Suite\\S...   \n",
       "\n",
       "                                 Service Name Service Type  \\\n",
       "0                                      sysmon   auto start   \n",
       "1                                   SysmonDrv   boot start   \n",
       "2                                      sysmon   auto start   \n",
       "3       Microsoft Intune Management Extension   auto start   \n",
       "4                                      sysmon   auto start   \n",
       "...                                       ...          ...   \n",
       "689339                                 sysmon   auto start   \n",
       "689340                              SysmonDrv   boot start   \n",
       "689341                                 sysmon   auto start   \n",
       "689342                                 sysmon   auto start   \n",
       "689343                 CCH Axcess DCS Service   auto start   \n",
       "\n",
       "        Service Start Type   Label  \n",
       "0        user mode service  benign  \n",
       "1       kernel mode driver  benign  \n",
       "2        user mode service  benign  \n",
       "3        user mode service  benign  \n",
       "4        user mode service  benign  \n",
       "...                    ...     ...  \n",
       "689339   user mode service  benign  \n",
       "689340  kernel mode driver  benign  \n",
       "689341   user mode service  benign  \n",
       "689342   user mode service  benign  \n",
       "689343   user mode service  benign  \n",
       "\n",
       "[689344 rows x 9 columns]"
      ]
     },
     "metadata": {},
     "output_type": "display_data"
    }
   ],
   "source": [
    "import pandas as pd\n",
    "# Specify the file path\n",
    "file_path = 'cleaned_benign_malicious_suspicious_service_installs_30days.csv'\n",
    "\n",
    "# Read the CSV file into a pandas DataFrame\n",
    "shuffled_df = pd.read_csv(file_path, low_memory=False)\n",
    "\n",
    "# Display the DataFrame\n",
    "display(shuffled_df)"
   ]
  },
  {
   "cell_type": "code",
   "execution_count": 19,
   "metadata": {},
   "outputs": [
    {
     "name": "stdout",
     "output_type": "stream",
     "text": [
      "Index(['Timestamp', 'Event ID', 'ID', 'Account_Name', 'Service File Name',\n",
      "       'Service Name', 'Service Type', 'Service Start Type', 'Label'],\n",
      "      dtype='object')\n"
     ]
    }
   ],
   "source": [
    "print(shuffled_df.columns)"
   ]
  },
  {
   "cell_type": "code",
   "execution_count": 11,
   "metadata": {},
   "outputs": [
    {
     "name": "stdout",
     "output_type": "stream",
     "text": [
      "['benign' ' malicious' nan]\n"
     ]
    }
   ],
   "source": [
    "unique_values = shuffled_df['Label'].unique()\n",
    "print(unique_values)"
   ]
  },
  {
   "cell_type": "code",
   "execution_count": 12,
   "metadata": {},
   "outputs": [
    {
     "name": "stdout",
     "output_type": "stream",
     "text": [
      "2\n"
     ]
    }
   ],
   "source": [
    "label_frequency =shuffled_df['Label'].isna().sum()\n",
    "print(label_frequency)"
   ]
  },
  {
   "cell_type": "code",
   "execution_count": 2,
   "metadata": {},
   "outputs": [
    {
     "name": "stdout",
     "output_type": "stream",
     "text": [
      "['benign' ' malicious']\n",
      "(689288, 9)\n"
     ]
    }
   ],
   "source": [
    "#Remove any NaN values in the 'Label' column\n",
    "#shuffled_df['Label'] = shuffled_df['Label'].dropna()\n",
    "shuffled_df = shuffled_df.dropna()\n",
    "unique_values2 = shuffled_df['Label'].unique()\n",
    "print(unique_values2)\n",
    "print( shuffled_df.shape)\n"
   ]
  },
  {
   "cell_type": "code",
   "execution_count": null,
   "metadata": {},
   "outputs": [],
   "source": [
    "#check number of row\n",
    "print( shuffled_df.shape)"
   ]
  },
  {
   "cell_type": "markdown",
   "metadata": {},
   "source": [
    "Class Distribution Analysis:\n",
    "\n",
    "    Calculate and visualize the frequency distribution of classes (e.g., benign vs malicious) using matplotlib histograms.\n",
    "\n",
    "    Plot histograms for columns like 'Service Name' and 'Event ID'."
   ]
  },
  {
   "cell_type": "code",
   "execution_count": 18,
   "metadata": {},
   "outputs": [
    {
     "name": "stdout",
     "output_type": "stream",
     "text": [
      "Benign count: 688688\n",
      "Malicious count: 600\n"
     ]
    },
    {
     "data": {
      "image/png": "[encoded data removed]",
      "text/plain": [
       "<Figure size 640x480 with 1 Axes>"
      ]
     },
     "metadata": {},
     "output_type": "display_data"
    }
   ],
   "source": [
    "import matplotlib.pyplot as plt\n",
    "# Check class distribution\n",
    "class_distribution = shuffled_df['Label'].value_counts()\n",
    "benign_count = class_distribution['benign']  # Adjust with your actual label for the benign class\n",
    "malicious_count = class_distribution[' malicious']  # Adjust with your actual label for the malicious class\n",
    "\n",
    "print(f\"Benign count: {benign_count}\")\n",
    "print(f\"Malicious count: {malicious_count}\")\n",
    "\n",
    "# Plot the histogram\n",
    "plt.hist(shuffled_df['Label'].astype(str))  # Convert labels to strings if needed\n",
    "\n",
    "# Add labels and title\n",
    "plt.xlabel('Label')\n",
    "plt.ylabel('Frequency')\n",
    "plt.title('Histogram of Label')\n",
    "\n",
    "# Show the plot\n",
    "plt.show()"
   ]
  },
  {
   "cell_type": "code",
   "execution_count": 21,
   "metadata": {},
   "outputs": [
    {
     "data": {
      "image/png": "[encoded data removed]",
      "text/plain": [
       "<Figure size 640x480 with 1 Axes>"
      ]
     },
     "metadata": {},
     "output_type": "display_data"
    }
   ],
   "source": [
    "\n",
    "# Plot the histogram\n",
    "plt.hist(shuffled_df['Service Name'].astype(str))  # Convert labels to strings if needed\n",
    "\n",
    "# Add labels and title\n",
    "plt.xlabel('Service Start Name')\n",
    "plt.ylabel('Frequency')\n",
    "plt.title('Histogram of Service Name')\n",
    "\n",
    "# Show the plot\n",
    "plt.show()"
   ]
  },
  {
   "cell_type": "code",
   "execution_count": 25,
   "metadata": {},
   "outputs": [
    {
     "data": {
      "image/png": "[encoded data removed]",
      "text/plain": [
       "<Figure size 640x480 with 1 Axes>"
      ]
     },
     "metadata": {},
     "output_type": "display_data"
    }
   ],
   "source": [
    "# Plot the histogram\n",
    "plt.hist(shuffled_df['Event ID'].astype(str))  # Convert labels to strings if needed\n",
    "\n",
    "# Add labels and title\n",
    "plt.xlabel('Event ID')\n",
    "plt.ylabel('Frequency')\n",
    "plt.title('Histogram of Event ID')\n",
    "\n",
    "# Show the plot\n",
    "plt.show()"
   ]
  },
  {
   "cell_type": "markdown",
   "metadata": {},
   "source": [
    "Frequency Analysis:\n",
    "\n",
    "    Perform frequency analysis on specific columns and display the top 3 most frequent values in each."
   ]
  },
  {
   "cell_type": "code",
   "execution_count": 34,
   "metadata": {},
   "outputs": [
    {
     "name": "stdout",
     "output_type": "stream",
     "text": [
      "\n",
      "Top 3 frequencies for column 'Timestamp':\n",
      "Timestamp\n",
      "2024-08-07T19:43:13Z    33\n",
      "2024-08-07T16:36:15Z    31\n",
      "2024-08-30T23:43:00Z    30\n",
      "Name: count, dtype: int64\n",
      "\n",
      "Top 3 frequencies for column 'Event ID':\n",
      "Event ID\n",
      "7045.0    689288\n",
      "Name: count, dtype: int64\n",
      "\n",
      "Top 3 frequencies for column 'ID':\n",
      "ID\n",
      "1a1f754a-ac85-4e7d-86b4-1013abea571e    13\n",
      "cdc70203-499e-469d-87a7-35be4dca7826    10\n",
      "c18efd8a-8a2c-47af-940d-7c6b09cb8a86     7\n",
      "Name: count, dtype: int64\n",
      "\n",
      "Top 3 frequencies for column 'Account Name':\n",
      "Account Name\n",
      "LocalSystem                  686799\n",
      "NT AUTHORITY\\LocalService      1033\n",
      ".\\localsystem                   436\n",
      "Name: count, dtype: int64\n",
      "\n",
      "Top 3 frequencies for column 'Service File Name':\n",
      "Service File Name\n",
      "C:\\WINDOWS\\sysmon.exe       150301\n",
      "C:\\WINDOWS\\SysmonDrv.sys    145246\n",
      "C:\\Windows\\sysmon.exe       123120\n",
      "Name: count, dtype: int64\n",
      "\n",
      "Top 3 frequencies for column 'Service Name':\n",
      "Service Name\n",
      "sysmon                                                                                   327494\n",
      "SysmonDrv                                                                                196445\n",
      "GoogleUpdater InternalService 129.0.6651.0 (GoogleUpdaterInternalService129.0.6651.0)     15281\n",
      "Name: count, dtype: int64\n",
      "\n",
      "Top 3 frequencies for column 'Service Type':\n",
      "Service Type\n",
      "auto start      431391\n",
      "boot start      198252\n",
      "demand start     47499\n",
      "Name: count, dtype: int64\n",
      "\n",
      "Top 3 frequencies for column 'Service Start Type':\n",
      "Service Start Type\n",
      "user mode service               459237\n",
      "kernel mode driver              223843\n",
      "slu?ba v u?ivatelsk?m re?imu      1622\n",
      "Name: count, dtype: int64\n",
      "\n",
      "Top 3 frequencies for column 'Label':\n",
      "Label\n",
      "benign        688688\n",
      " malicious       600\n",
      "Name: count, dtype: int64\n"
     ]
    }
   ],
   "source": [
    "# List of columns to run frequency analysis\n",
    "columns_to_analyze = ['Timestamp', 'Event ID', 'ID', 'Account Name', 'Service File Name',\n",
    "       'Service Name', 'Service Type', 'Service Start Type', 'Label']\n",
    "\n",
    "# Dictionary to store frequency counts\n",
    "frequency_counts = {}\n",
    "\n",
    "# Calculate frequency for each column\n",
    "for column in columns_to_analyze:\n",
    "    frequency_counts[column] = shuffled_df[column].value_counts().head(3)\n",
    "\n",
    "# Display the frequency counts\n",
    "for column, counts in frequency_counts.items():\n",
    "    print(f\"\\nTop 3 frequencies for column '{column}':\")\n",
    "    print(counts)"
   ]
  },
  {
   "cell_type": "markdown",
   "metadata": {},
   "source": [
    "We don't upsample malicious activities for unsupervised learning.\n",
    "\n",
    "Handling Imbalanced Data:\n",
    "    Use RandomOverSampler from imblearn to balance imbalanced datasets (e.g., making sure the benign and malicious labels have desired proportions)."
   ]
  },
  {
   "cell_type": "code",
   "execution_count": null,
   "metadata": {},
   "outputs": [],
   "source": [
    "#!pip install imblearn\n",
    "#from imblearn.over_sampling import RandomOverSampler\n",
    "\n",
    "# Example DataFrame with labels 'malicious' and 'benign'\n",
    "# Make sure you replace it with your actual data\n",
    "# Assuming 'Label' column has 'malicious' and 'benign' values\n",
    "#X = shuffled_df.drop(columns='Label')  # Features\n",
    "#y = shuffled_df['Label']  # Target labels ('malicious' and 'benign')\n",
    "\n",
    "# Set the sampling strategy for 20% malicious and 80% benign\n",
    "#sampling_strategy = {' malicious': int(0.25 * y.value_counts()['benign']), 'benign': y.value_counts()['benign']}\n",
    "\n",
    "# Initialize RandomOverSampler with the custom strategy\n",
    "#ros = RandomOverSampler(sampling_strategy=sampling_strategy, random_state=42)\n",
    "\n",
    "# Resample the dataset\n",
    "#X_resampled, y_resampled = ros.fit_resample(X, y)\n",
    "\n",
    "# Combine the resampled features and labels into a new DataFrame\n",
    "#shuffled_df = pd.concat([pd.DataFrame(X_resampled, columns=X.columns), pd.Series(y_resampled, name='Label')], axis=1)\n",
    "\n",
    "# Check the new class distribution\n",
    "#print(shuffled_df['Label'].value_counts())\n",
    "\n"
   ]
  },
  {
   "cell_type": "code",
   "execution_count": 29,
   "metadata": {},
   "outputs": [
    {
     "name": "stdout",
     "output_type": "stream",
     "text": [
      "       Event ID\n",
      "count  689288.0\n",
      "mean     7045.0\n",
      "std         0.0\n",
      "min      7045.0\n",
      "25%      7045.0\n",
      "50%      7045.0\n",
      "75%      7045.0\n",
      "max      7045.0\n",
      "Timestamp             0\n",
      "Event ID              0\n",
      "ID                    0\n",
      "Account_Name          0\n",
      "Service File Name     0\n",
      "Service Name          0\n",
      "Service Type          0\n",
      "Service Start Type    0\n",
      "Label                 0\n",
      "dtype: int64\n"
     ]
    }
   ],
   "source": [
    "# Get summary statistics of the numerical columns\n",
    "print(shuffled_df.describe())\n",
    "# Check for missing values\n",
    "print(shuffled_df.isna().sum())"
   ]
  },
  {
   "cell_type": "code",
   "execution_count": 3,
   "metadata": {},
   "outputs": [
    {
     "name": "stdout",
     "output_type": "stream",
     "text": [
      "Index(['Timestamp', 'Event ID', 'ID', 'Account Name', 'Service File Name',\n",
      "       'Service Name', 'Service Type', 'Service Start Type', 'Label'],\n",
      "      dtype='object')\n"
     ]
    }
   ],
   "source": [
    "shuffled_df.columns = shuffled_df.columns.str.replace('_', ' ')\n",
    "print(shuffled_df.columns)"
   ]
  },
  {
   "cell_type": "markdown",
   "metadata": {},
   "source": [
    "Isolation Forest is an unsupervised machine learning algorithm for anomaly detection. This algorithm leverages an ensemble of decision trees, much like a random forest, to make its predictions. By averaging the results from multiple trees, Isolation Forest assigns a robust anomaly score to each data point, ensuring a more reliable detection of outliers.\n",
    "\n",
    "Source: F. T. Liu, K. M. Ting and Z. -H. Zhou, \"Isolation Forest,\" 2008 Eighth IEEE International Conference on Data Mining, Pisa, Italy, 2008, pp. 413-422, doi: 10.1109/ICDM.2008.17. keywords: {Application software;Credit cards;Detectors;Constraint optimization;Data mining;Information technology;Laboratories;Isolation technology;Performance evaluation;Astronomy;anomaly detection;outlier detection;novelty detection;isolation forest;binary trees;model based},\n",
    "URL: https://ieeexplore.ieee.org/document/4781136"
   ]
  },
  {
   "cell_type": "code",
   "execution_count": 4,
   "metadata": {},
   "outputs": [],
   "source": [
    "from sklearn.preprocessing import OneHotEncoder\n",
    "from sklearn.model_selection import train_test_split\n",
    "from sklearn.ensemble import IsolationForest\n"
   ]
  },
  {
   "cell_type": "markdown",
   "metadata": {},
   "source": [
    "\n",
    "\n",
    "Data Preprocessing & Feature extractions:\n",
    "\n",
    "    Perform feature engineering by extracting date and time components (year, month, day, hour) from timestamps.\n",
    "    \n",
    "    Encode categorical variables using OneHotEncoder and concatenate them back into the main DataFrame."
   ]
  },
  {
   "cell_type": "code",
   "execution_count": 5,
   "metadata": {},
   "outputs": [],
   "source": [
    "# datetime conversion\n",
    "shuffled_df['Timestamp'] = pd.to_datetime(shuffled_df['Timestamp'], errors='coerce')\n",
    "\n",
    "# Feature Engineering: Extract date components from the Timestamp\n",
    "# Extract year, month, day, and hour from the Timestamp\n",
    "shuffled_df['year'] = shuffled_df['Timestamp'].dt.year \n",
    "shuffled_df['year'] = shuffled_df['Timestamp'].dt.year\n",
    "shuffled_df['month'] = shuffled_df['Timestamp'].dt.month\n",
    "shuffled_df['day'] = shuffled_df['Timestamp'].dt.day\n",
    "shuffled_df['day_of_week'] = shuffled_df['Timestamp'].dt.day_name()\n",
    "shuffled_df['hour'] = shuffled_df['Timestamp'].dt.hour\n",
    "\n",
    "# Drop the 'Timestamp' column\n",
    "shuffled_df.drop(columns=['Timestamp'], inplace=True)\n",
    "shuffled_df = shuffled_df.dropna()"
   ]
  },
  {
   "cell_type": "markdown",
   "metadata": {},
   "source": [
    "Model Training and Anomaly Detection:\n",
    "\n",
    "Train an Isolation Forest model for anomaly detection.\n",
    "\n",
    "Split the dataset into training and testing sets.\n",
    "\n",
    "Use the Isolation Forest model to predict anomalies based on various features.\n",
    "\n",
    "Display predictions, scores, and associate them with unique identifiers (ID)."
   ]
  },
  {
   "cell_type": "code",
   "execution_count": 6,
   "metadata": {},
   "outputs": [],
   "source": [
    "# Identify categorical columns to encode (excluding 'ID')\n",
    "categorical_columns = ['Account Name', 'Service File Name', 'Service Name', 'Service Type', 'Service Start Type', 'hour', 'day_of_week']\n",
    "\n",
    "# Initialize OneHotEncoder and encode categorical columns\n",
    "encoder = OneHotEncoder(sparse_output=False, drop='first')\n",
    "encoded_df = pd.DataFrame(encoder.fit_transform(shuffled_df[categorical_columns]),\n",
    "                          columns=encoder.get_feature_names_out(categorical_columns))\n",
    "\n",
    "#  Concatenate the encoded columns back to the original DataFrame\n",
    "shuffled_df = pd.concat([shuffled_df.reset_index(drop=True), encoded_df.reset_index(drop=True)], axis=1)\n",
    "\n",
    "# Step 8: Drop the original categorical columns\n",
    "shuffled_df.drop(columns=categorical_columns, inplace=True)\n",
    "\n",
    "# Step 9: Ensure the 'ID' column exists\n",
    "# If you don't have an 'ID' column in your dataset, remove this part\n",
    "id_column = shuffled_df['ID'] if 'ID' in shuffled_df.columns else pd.Series(range(len(shuffled_df)))\n",
    "\n",
    "# Step 10: Extract features for the model (excluding 'Label' and 'ID')\n",
    "features = shuffled_df.drop(columns=['Label', 'ID'] if 'ID' in shuffled_df.columns else ['Label'])\n",
    "labels = shuffled_df['Label']\n",
    "\n",
    "# Step 11: Split the data into training and testing sets\n",
    "X_train, X_test, y_train, y_test, id_train, id_test = train_test_split(features, labels, id_column, test_size=0.3, random_state=42)\n",
    "\n",
    "# Step 12: Initialize and fit the Isolation Forest model on the training data\n",
    "model = IsolationForest(n_estimators=100, contamination='auto', random_state=50)\n",
    "X_train_cleaned = X_train.dropna()\n",
    "model.fit(X_train)\n",
    "\n",
    "# Step 13: Predict on the testing set\n",
    "test_scores = model.decision_function(X_test)\n",
    "test_predictions = model.predict(X_test)\n",
    "\n",
    "# Step 14: Combine predictions with the 'ID' column for identification\n",
    "results_df = pd.DataFrame({\n",
    "    'ID': id_test,\n",
    "    'Test Scores': test_scores,\n",
    "    'Test Predictions': test_predictions\n",
    "})"
   ]
  },
  {
   "cell_type": "markdown",
   "metadata": {},
   "source": [
    "Model evaluation # 1\n",
    "\n",
    "Result Analysis:\n",
    "\n",
    "Evaluate the predictions by comparing them with expert-labeled data (benign vs malicious).\n",
    "\n",
    "Use cross-tabulation to compare the expert opinions with model results.\n",
    "\n",
    "Relabel anomaly predictions for better interpretation (e.g., 1 as \"not an anomaly\" and 0 as \"an anomaly\").\n",
    "\n",
    "Display and analyze the frequency of these predictions."
   ]
  },
  {
   "cell_type": "code",
   "execution_count": 7,
   "metadata": {},
   "outputs": [
    {
     "name": "stdout",
     "output_type": "stream",
     "text": [
      "                                          ID   Label    Scores  Anomaly\n",
      "93268   f69638f5-08a1-4fe5-b31b-a322ab874d8a  benign  0.169191        1\n",
      "415865  af914061-225b-45c0-b3ed-c6d9f1d2a80b  benign  0.136105        1\n",
      "503149  ac528e8e-76e6-4590-a41a-77fecc2706ea  benign  0.152184        1\n",
      "215501  f20109ac-d7d2-43ca-943b-3bb835b7502d  benign  0.164312        1\n",
      "664145  3355a030-9e9e-49c9-a652-adecbdc7f811  benign  0.139457        1\n",
      "...                                      ...     ...       ...      ...\n",
      "411876  de3da1f0-5821-49bd-85e7-7e44fb523c83  benign  0.140691        1\n",
      "71441   dadfec06-d643-4e52-974d-8f6c62a6cb55  benign  0.152947        1\n",
      "109644  fcd06ba4-c519-4956-aaca-c287f188ae9d  benign  0.143127        1\n",
      "284425  321b7055-3cf5-47fb-a0ee-866efa50b1fa  benign  0.171291        1\n",
      "374242  2fc0b52f-9df6-43dd-9721-13931c50434d  benign  0.154766        1\n",
      "\n",
      "[206787 rows x 4 columns]\n"
     ]
    }
   ],
   "source": [
    "# Create a DataFrame for the results\n",
    "shuffled_df_test = shuffled_df.iloc[X_test.index].copy()\n",
    "\n",
    "# Add the label, scores, and predictions back to the testing set for analysis\n",
    "shuffled_df_test['Label'] = y_test\n",
    "shuffled_df_test['Scores'] = test_scores\n",
    "shuffled_df_test['Anomaly'] = test_predictions\n",
    "\n",
    "# Display results\n",
    "if 'ID' in shuffled_df_test.columns:\n",
    "    print(shuffled_df_test[['ID', 'Label', 'Scores', 'Anomaly']])\n",
    "else:\n",
    "    print(\"Warning: '0: Indicates an anomaly & 1: Indicates that the point is not an anomaly.\")\n",
    "    print(shuffled_df_test[['Label', 'Scores', 'Anomaly']])\n"
   ]
  },
  {
   "cell_type": "markdown",
   "metadata": {},
   "source": [
    "Model evaluation # 2"
   ]
  },
  {
   "cell_type": "code",
   "execution_count": 8,
   "metadata": {},
   "outputs": [
    {
     "name": "stdout",
     "output_type": "stream",
     "text": [
      "Frequency of Expert Opinion or Label ( 'benign' vs 'malicious'):\n",
      "Label\n",
      "benign        206594\n",
      " malicious       193\n",
      "Name: count, dtype: int64\n"
     ]
    }
   ],
   "source": [
    "# Display frequency for 'Label' and 'Anomaly'\n",
    "print(\"Frequency of Expert Opinion or Label ( 'benign' vs 'malicious'):\")\n",
    "print(shuffled_df_test['Label'].value_counts() )\n"
   ]
  },
  {
   "cell_type": "markdown",
   "metadata": {},
   "source": [
    "Model evaluation # 3"
   ]
  },
  {
   "cell_type": "code",
   "execution_count": 9,
   "metadata": {},
   "outputs": [
    {
     "name": "stdout",
     "output_type": "stream",
     "text": [
      "Frequency of Model Result ('not an anomaly' vs 'an anomaly'):\n",
      "Anomaly\n",
      "not an anomaly    206787\n",
      "Name: count, dtype: int64\n"
     ]
    }
   ],
   "source": [
    "\n",
    "# Relabel the 'Anomaly' column: 1 -> \"not an anomaly\", 0 -> \"an anomaly\"\n",
    "shuffled_df_test['Anomaly'] = shuffled_df_test['Anomaly'].replace({1: \"not an anomaly\", 0: \"an anomaly\"})\n",
    "\n",
    "# Print the frequency to check the new labels\n",
    "print(\"Frequency of Model Result ('not an anomaly' vs 'an anomaly'):\")\n",
    "print(shuffled_df_test['Anomaly'].value_counts())"
   ]
  },
  {
   "cell_type": "markdown",
   "metadata": {},
   "source": [
    "\n",
    "This program is designed to provide a comprehensive workflow for processing, visualizing, and detecting anomalies in data, using real-world Machine Learning techniques and tools in Python.\n",
    "\n",
    "Data Handling: pandas for data manipulation, cleaning, and analysis.\n",
    "\n",
    "Data Visualization: matplotlib for plotting histograms and visualizing distributions.\n",
    "\n",
    "x Imbalanced Data Handling: Random oversampling with imblearn.\n",
    "\n",
    "Anomaly Detection: Using IsolationForest from scikit-learn.\n",
    "\n",
    "Feature Engineering: Extracting date components and encoding categorical variables.\n",
    "\n",
    "Model Evaluation: Cross-tabulation and frequency analysis for comparing model results with actual labels."
   ]
  }
 ],
 "metadata": {
  "kernelspec": {
   "display_name": "Python 3",
   "language": "python",
   "name": "python3"
  },
  "language_info": {
   "codemirror_mode": {
    "name": "ipython",
    "version": 3
   },
   "file_extension": ".py",
   "mimetype": "text/x-python",
   "name": "python",
   "nbconvert_exporter": "python",
   "pygments_lexer": "ipython3",
   "version": "3.8.5"
  }
 },
 "nbformat": 4,
 "nbformat_minor": 2
}
